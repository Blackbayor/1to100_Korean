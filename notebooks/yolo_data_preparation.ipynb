{
 "cells": [
  {
   "cell_type": "code",
   "execution_count": 2,
   "metadata": {},
   "outputs": [
    {
     "ename": "SyntaxError",
     "evalue": "unterminated string literal (detected at line 41) (4192535099.py, line 41)",
     "output_type": "error",
     "traceback": [
      "  \u001b[36mCell\u001b[39m\u001b[36m \u001b[39m\u001b[32mIn[2]\u001b[39m\u001b[32m, line 41\u001b[39m\n\u001b[31m    \u001b[39m\u001b[31mprint(\"\u001b[39m\n          ^\n\u001b[31mSyntaxError\u001b[39m\u001b[31m:\u001b[39m unterminated string literal (detected at line 41)\n"
     ]
    }
   ],
   "source": [
    "import os\n",
    "import glob\n",
    "import random\n",
    "\n",
    "# Path to your processed images\n",
    "image_dir = 'C:/Users/CUBOX/1to100/data/processed/images'\n",
    "\n",
    "# Get a list of all image files in the directory (ignoring .gitignore)\n",
    "all_image_files = glob.glob(os.path.join(image_dir, '*.png'))\n",
    "\n",
    "if len(all_image_files) < 10:\n",
    "    print(f\"Not enough images found. Found {len(all_image_files)} but need at least 10.\")\n",
    "else:\n",
    "    # Randomly select 10 images\n",
    "    random.seed(42) # for reproducibility\n",
    "    sampled_images = random.sample(all_image_files, 10)\n",
    "\n",
    "    # Define split ratios\n",
    "    train_ratio = 0.8\n",
    "    val_ratio = 0.1\n",
    "    test_ratio = 0.1\n",
    "\n",
    "    # Calculate split sizes\n",
    "    num_images = len(sampled_images)\n",
    "    num_train = int(num_images * train_ratio)\n",
    "    num_val = int(num_images * val_ratio)\n",
    "    num_test = num_images - num_train - num_val # Ensure all images are used\n",
    "\n",
    "    # Shuffle the sampled images\n",
    "    random.shuffle(sampled_images)\n",
    "\n",
    "    # Split the images\n",
    "    train_images = sampled_images[:num_train]\n",
    "    val_images = sampled_images[num_train:num_train + num_val]\n",
    "    test_images = sampled_images[num_train + num_val:]\n",
    "\n",
    "    print(\"--- Train Images ---\")\n",
    "    for img in train_images:\n",
    "        print(img)\n",
    "\n",
    "    print(\"\n",
    "--- Validation Images ---\")\n",
    "    for img in val_images:\n",
    "        print(img)\n",
    "\n",
    "    print(\"\n",
    "--- Test Images ---\")\n",
    "    for img in test_images:\n",
    "        print(img)\n"
   ]
  },
  {
   "cell_type": "code",
   "execution_count": null,
   "metadata": {},
   "outputs": [],
   "source": []
  }
 ],
 "metadata": {
  "kernelspec": {
   "display_name": "Python 3 (ipykernel)",
   "language": "python",
   "name": "python3"
  },
  "language_info": {
   "codemirror_mode": {
    "name": "ipython",
    "version": 3
   },
   "file_extension": ".py",
   "mimetype": "text/x-python",
   "name": "python",
   "nbconvert_exporter": "python",
   "pygments_lexer": "ipython3",
   "version": "3.11.9"
  }
 },
 "nbformat": 4,
 "nbformat_minor": 4
}

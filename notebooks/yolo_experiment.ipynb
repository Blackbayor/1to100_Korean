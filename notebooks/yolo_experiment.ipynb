{
 "cells": [
  {
   "cell_type": "code",
   "execution_count": 1,
   "metadata": {},
   "outputs": [
    {
     "name": "stdout",
     "output_type": "stream",
     "text": [
      "Processing sample image: C:/Users/CUBOX/1to100/data/processed/images\\2022수능국어_홀_page_10.png\n",
      "\n",
      "image 1/1 C:\\Users\\CUBOX\\1to100\\data\\processed\\images\\2022__page_10.png: 640x480 1 header, 1 passage, 1 question_block, 1 figure, 5 footers, 87.8ms\n",
      "Speed: 4.7ms preprocess, 87.8ms inference, 1.5ms postprocess per image at shape (1, 3, 640, 480)\n",
      "Detected objects: tensor([[9.5522e+01, 2.0204e+02, 4.0738e+02, 3.5767e+02, 9.9483e-01, 4.0000e+00],\n",
      "        [7.8371e+01, 1.4999e+02, 4.1745e+02, 6.4665e+02, 9.9283e-01, 2.0000e+00],\n",
      "        [4.3548e+02, 1.7230e+02, 7.5542e+02, 1.0690e+03, 9.8683e-01, 1.0000e+00],\n",
      "        [3.6253e+02, 1.0789e+02, 4.8005e+02, 1.4203e+02, 9.1450e-01, 5.0000e+00],\n",
      "        [6.9060e+02, 1.0672e+02, 7.5424e+02, 1.4250e+02, 9.1317e-01, 5.0000e+00],\n",
      "        [3.9345e+02, 1.0801e+03, 4.4718e+02, 1.1059e+03, 8.3888e-01, 5.0000e+00],\n",
      "        [8.8576e+01, 1.0663e+02, 1.2928e+02, 1.4012e+02, 8.1986e-01, 5.0000e+00],\n",
      "        [4.3316e+02, 1.5405e+02, 6.5110e+02, 1.7304e+02, 7.6832e-01, 0.0000e+00],\n",
      "        [4.9563e+02, 1.1028e+03, 7.7376e+02, 1.1215e+03, 7.2041e-01, 5.0000e+00]])\n"
     ]
    }
   ],
   "source": [
    "from ultralytics import YOLO\n",
    "import os\n",
    "import glob\n",
    "from PIL import Image\n",
    "\n",
    "# Load your trained YOLOv8 model\n",
    "# The path should point to the 'best.pt' file generated after training\n",
    "model = YOLO('C:/Users/CUBOX/1to100/notebooks/runs/detect/train/weights/best.pt')\n",
    "\n",
    "# Path to your processed images\n",
    "image_dir = 'C:/Users/CUBOX/1to100/data/processed/images'\n",
    "\n",
    "# Get a list of all image files in the directory\n",
    "# Use glob with recursive=True and respect_git_ignore=False to find all images\n",
    "image_files = glob.glob(os.path.join(image_dir, '**', '*.png'), recursive=True) + \\\n",
    "              glob.glob(os.path.join(image_dir, '**', '*.jpg'), recursive=True) + \\\n",
    "              glob.glob(os.path.join(image_dir, '**', '*.jpeg'), recursive=True)\n",
    "\n",
    "if not image_files:\n",
    "    print(f\"No image files found in {image_dir}. Please ensure images are present.\")\n",
    "else:\n",
    "    # Take a random image for demonstration\n",
    "    import random\n",
    "    sample_image_path = random.choice(image_files)\n",
    "    print(f\"Processing sample image: {sample_image_path}\")\n",
    "\n",
    "    # Run inference on the sample image\n",
    "    results = model(sample_image_path)\n",
    "\n",
    "    # Show results\n",
    "    for r in results:\n",
    "        im_bgr = r.plot()  # plot a BGR numpy array of predictions\n",
    "        im_rgb = Image.fromarray(im_bgr[..., ::-1])  # convert to RGB PIL image\n",
    "        im_rgb.show() # Display the image with bounding boxes\n",
    "        print(f\"Detected objects: {r.boxes.data}\") # Print detected object data\n"
   ]
  },
  {
   "cell_type": "code",
   "execution_count": null,
   "metadata": {},
   "outputs": [],
   "source": []
  }
 ],
 "metadata": {
  "kernelspec": {
   "display_name": "Python 3 (ipykernel)",
   "language": "python",
   "name": "python3"
  },
  "language_info": {
   "codemirror_mode": {
    "name": "ipython",
    "version": 3
   },
   "file_extension": ".py",
   "mimetype": "text/x-python",
   "name": "python",
   "nbconvert_exporter": "python",
   "pygments_lexer": "ipython3",
   "version": "3.11.9"
  }
 },
 "nbformat": 4,
 "nbformat_minor": 4
}
